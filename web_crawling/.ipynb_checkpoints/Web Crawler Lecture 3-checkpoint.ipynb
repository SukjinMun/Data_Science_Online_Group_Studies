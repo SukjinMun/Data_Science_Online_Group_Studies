{
 "cells": [
  {
   "cell_type": "markdown",
   "id": "mounted-deficit",
   "metadata": {},
   "source": [
    "# Handling XML Format Data\n",
    "- 동네 예보 rss:http://www.kma.go.kr/weather/forecast/timeseries.jsp?searchType=INTEREST&dongCode=1159068000"
   ]
  },
  {
   "cell_type": "code",
   "execution_count": 1,
   "id": "secure-label",
   "metadata": {},
   "outputs": [
    {
     "data": {
      "text/plain": [
       "'<?xml version=\"1.0\" encoding=\"UTF-8\" ?>\\n<rss version=\"2.0\">\\n<channel>\\n<title>기상청 동네예보 웹서비스 - 서울특별시 종'"
      ]
     },
     "execution_count": 1,
     "metadata": {},
     "output_type": "execute_result"
    }
   ],
   "source": [
    "import requests\n",
    "\n",
    "url = \"http://www.kma.go.kr/wid/queryDFSRSS.jsp?zone=1111061500\"\n",
    "response = requests.get(url).text\n",
    "response[:100]\n"
   ]
  },
  {
   "cell_type": "code",
   "execution_count": 3,
   "id": "hollow-ordinance",
   "metadata": {},
   "outputs": [],
   "source": [
    "# transforming XML into a dictionary\n",
    "import xmltodict\n",
    "\n",
    "# parse -> 해석, 변환의 의미로 저장된 정보가 달라지지 않고, 형식만 바꾸는것\n",
    "# 변수 response에 저장된 정보를 parsing \n",
    "\n",
    "data = xmltodict.parse(response)"
   ]
  },
  {
   "cell_type": "code",
   "execution_count": 4,
   "id": "accompanied-affect",
   "metadata": {},
   "outputs": [
    {
     "data": {
      "text/plain": [
       "odict_keys(['rss'])"
      ]
     },
     "execution_count": 4,
     "metadata": {},
     "output_type": "execute_result"
    }
   ],
   "source": [
    "data.keys()"
   ]
  },
  {
   "cell_type": "code",
   "execution_count": 5,
   "id": "stuffed-making",
   "metadata": {},
   "outputs": [
    {
     "data": {
      "text/plain": [
       "odict_keys(['@version', 'channel'])"
      ]
     },
     "execution_count": 5,
     "metadata": {},
     "output_type": "execute_result"
    }
   ],
   "source": [
    "data['rss'].keys()"
   ]
  },
  {
   "cell_type": "code",
   "execution_count": 6,
   "id": "assisted-marketplace",
   "metadata": {},
   "outputs": [
    {
     "data": {
      "text/plain": [
       "odict_keys(['title', 'link', 'description', 'language', 'generator', 'pubDate', 'item'])"
      ]
     },
     "execution_count": 6,
     "metadata": {},
     "output_type": "execute_result"
    }
   ],
   "source": [
    "data['rss']['channel'].keys()"
   ]
  },
  {
   "cell_type": "code",
   "execution_count": null,
   "id": "departmental-picture",
   "metadata": {},
   "outputs": [],
   "source": []
  }
 ],
 "metadata": {
  "kernelspec": {
   "display_name": "Python 3",
   "language": "python",
   "name": "python3"
  },
  "language_info": {
   "codemirror_mode": {
    "name": "ipython",
    "version": 3
   },
   "file_extension": ".py",
   "mimetype": "text/x-python",
   "name": "python",
   "nbconvert_exporter": "python",
   "pygments_lexer": "ipython3",
   "version": "3.7.9"
  }
 },
 "nbformat": 4,
 "nbformat_minor": 5
}
