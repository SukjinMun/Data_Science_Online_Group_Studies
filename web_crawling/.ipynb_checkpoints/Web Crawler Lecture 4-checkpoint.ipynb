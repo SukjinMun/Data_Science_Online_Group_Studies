{
 "cells": [
  {
   "cell_type": "markdown",
   "id": "domestic-workplace",
   "metadata": {},
   "source": [
    "\n",
    "## Google News - BeautifulSoup Applications\n",
    "\n",
    "- 구글 뉴스: https://news.google.com/search?q=백신&hl=ko&gl=KR&ceid=KR%3Ako\n",
    "- XML: https://news.google.com/rss/search?q=백신&hl=ko&gl=KR&ceid=KR%3Ako"
   ]
  },
  {
   "cell_type": "code",
   "execution_count": 3,
   "id": "related-eugene",
   "metadata": {},
   "outputs": [
    {
     "data": {
      "text/plain": [
       "\"백신 거짓 정보… '이런 사람'이 더 쉽게 믿는다 - 헬스조선\""
      ]
     },
     "execution_count": 3,
     "metadata": {},
     "output_type": "execute_result"
    }
   ],
   "source": [
    "import requests\n",
    "import bs4\n",
    "import pandas as pd\n",
    "\n",
    "url = \"https://news.google.com/rss/search?q=백신&hl=ko&gl=KR&ceid=KR%3Ako\"\n",
    "response = requests.get(url).text\n",
    "\n",
    "news_data = bs4.BeautifulSoup(response, features = \"xml\")\n",
    "news_data.find_all(\"item\")[0].find(\"title\").text"
   ]
  },
  {
   "cell_type": "code",
   "execution_count": null,
   "id": "adult-miller",
   "metadata": {},
   "outputs": [],
   "source": [
    "kw = \"반도체\"\n",
    "\n",
    "url = f\"https://news.google.com/rss/search?q={kw}&hl=ko&gl=KR&ceid=KR%3Ako\"\n",
    "response = requests.get(url).text\n",
    "news_data = bs4.BeautifulSoup(response, features = \"xml\")\n",
    "news_list = news_data.find(\"channel\").find_all(\"item\")\n",
    "\n",
    "for news in news_list: \n",
    "    title = news.find(\"title\").text #\n",
    "    link = \n",
    "    pubDate = \n",
    "    news_data.append({})\n"
   ]
  },
  {
   "cell_type": "code",
   "execution_count": null,
   "id": "former-oliver",
   "metadata": {},
   "outputs": [],
   "source": []
  },
  {
   "cell_type": "code",
   "execution_count": null,
   "id": "exact-seventh",
   "metadata": {},
   "outputs": [],
   "source": []
  },
  {
   "cell_type": "code",
   "execution_count": null,
   "id": "prepared-america",
   "metadata": {},
   "outputs": [],
   "source": []
  },
  {
   "cell_type": "code",
   "execution_count": null,
   "id": "coordinated-recommendation",
   "metadata": {},
   "outputs": [],
   "source": []
  },
  {
   "cell_type": "code",
   "execution_count": null,
   "id": "neutral-combine",
   "metadata": {},
   "outputs": [],
   "source": []
  },
  {
   "cell_type": "code",
   "execution_count": null,
   "id": "descending-chile",
   "metadata": {},
   "outputs": [],
   "source": []
  },
  {
   "cell_type": "code",
   "execution_count": null,
   "id": "democratic-installation",
   "metadata": {},
   "outputs": [],
   "source": []
  },
  {
   "cell_type": "code",
   "execution_count": null,
   "id": "suited-frank",
   "metadata": {},
   "outputs": [],
   "source": []
  },
  {
   "cell_type": "code",
   "execution_count": null,
   "id": "sporting-feeling",
   "metadata": {},
   "outputs": [],
   "source": []
  },
  {
   "cell_type": "code",
   "execution_count": null,
   "id": "bottom-treatment",
   "metadata": {},
   "outputs": [],
   "source": []
  },
  {
   "cell_type": "code",
   "execution_count": null,
   "id": "unusual-statement",
   "metadata": {},
   "outputs": [],
   "source": []
  },
  {
   "cell_type": "code",
   "execution_count": null,
   "id": "public-aaron",
   "metadata": {},
   "outputs": [],
   "source": []
  },
  {
   "cell_type": "code",
   "execution_count": null,
   "id": "active-excuse",
   "metadata": {},
   "outputs": [],
   "source": []
  },
  {
   "cell_type": "code",
   "execution_count": null,
   "id": "amber-donna",
   "metadata": {},
   "outputs": [],
   "source": []
  },
  {
   "cell_type": "code",
   "execution_count": null,
   "id": "harmful-moment",
   "metadata": {},
   "outputs": [],
   "source": []
  }
 ],
 "metadata": {
  "kernelspec": {
   "display_name": "Python 3",
   "language": "python",
   "name": "python3"
  },
  "language_info": {
   "codemirror_mode": {
    "name": "ipython",
    "version": 3
   },
   "file_extension": ".py",
   "mimetype": "text/x-python",
   "name": "python",
   "nbconvert_exporter": "python",
   "pygments_lexer": "ipython3",
   "version": "3.7.9"
  }
 },
 "nbformat": 4,
 "nbformat_minor": 5
}
