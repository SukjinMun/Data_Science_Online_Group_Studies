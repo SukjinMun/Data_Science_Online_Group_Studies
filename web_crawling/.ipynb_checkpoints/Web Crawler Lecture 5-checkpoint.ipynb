{
 "cells": [
  {
   "cell_type": "markdown",
   "id": "suspected-kuwait",
   "metadata": {},
   "source": [
    "## Top-down 방식\n",
    "\n",
    "- 구조상 윗단계부터 차례로 내려오면서 찾아나가는 방식"
   ]
  },
  {
   "cell_type": "code",
   "execution_count": 1,
   "id": "native-climb",
   "metadata": {},
   "outputs": [
    {
     "data": {
      "text/plain": [
       "50"
      ]
     },
     "execution_count": 1,
     "metadata": {},
     "output_type": "execute_result"
    }
   ],
   "source": [
    "import requests\n",
    "import bs4\n",
    "\n",
    "url = 'https://www.aladin.co.kr/shop/common/wbest.aspx?BranchType=1'\n",
    "response = requests.get(url).text\n",
    "aladin_page = bs4.BeautifulSoup(response)\n",
    "\n",
    "# one_page_all_books 변수에는 HTML 화면에서 모든 책이 각각 구분되는 덩어리\n",
    "one_page_all_books = .find_all('div', {'class':'ss_book_box'}) # select('.ss_book_box')\n",
    "len(one_page_all_books)\n",
    "\n",
    "# class가 \"ss_book_box\"인 div 태그는 50개 -> 50개의 책 정보"
   ]
  },
  {
   "cell_type": "code",
   "execution_count": null,
   "id": "excessive-walter",
   "metadata": {},
   "outputs": [],
   "source": []
  },
  {
   "cell_type": "code",
   "execution_count": null,
   "id": "consecutive-welding",
   "metadata": {},
   "outputs": [],
   "source": []
  },
  {
   "cell_type": "code",
   "execution_count": null,
   "id": "incorporate-formation",
   "metadata": {},
   "outputs": [],
   "source": []
  },
  {
   "cell_type": "code",
   "execution_count": null,
   "id": "adverse-premises",
   "metadata": {},
   "outputs": [],
   "source": []
  },
  {
   "cell_type": "code",
   "execution_count": null,
   "id": "comprehensive-purse",
   "metadata": {},
   "outputs": [],
   "source": []
  },
  {
   "cell_type": "code",
   "execution_count": null,
   "id": "stable-civilization",
   "metadata": {},
   "outputs": [],
   "source": []
  },
  {
   "cell_type": "code",
   "execution_count": null,
   "id": "earlier-walter",
   "metadata": {},
   "outputs": [],
   "source": []
  },
  {
   "cell_type": "code",
   "execution_count": null,
   "id": "impaired-genius",
   "metadata": {},
   "outputs": [],
   "source": []
  },
  {
   "cell_type": "code",
   "execution_count": null,
   "id": "equipped-reputation",
   "metadata": {},
   "outputs": [],
   "source": []
  },
  {
   "cell_type": "code",
   "execution_count": null,
   "id": "damaged-treaty",
   "metadata": {},
   "outputs": [],
   "source": []
  },
  {
   "cell_type": "code",
   "execution_count": null,
   "id": "pediatric-vermont",
   "metadata": {},
   "outputs": [],
   "source": []
  },
  {
   "cell_type": "code",
   "execution_count": null,
   "id": "settled-andrew",
   "metadata": {},
   "outputs": [],
   "source": []
  }
 ],
 "metadata": {
  "kernelspec": {
   "display_name": "Python 3",
   "language": "python",
   "name": "python3"
  },
  "language_info": {
   "codemirror_mode": {
    "name": "ipython",
    "version": 3
   },
   "file_extension": ".py",
   "mimetype": "text/x-python",
   "name": "python",
   "nbconvert_exporter": "python",
   "pygments_lexer": "ipython3",
   "version": "3.7.9"
  }
 },
 "nbformat": 4,
 "nbformat_minor": 5
}
